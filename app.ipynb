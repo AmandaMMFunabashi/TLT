{
 "cells": [
  {
   "cell_type": "markdown",
   "id": "6204fea7",
   "metadata": {
    "ExecuteTime": {
     "end_time": "2023-02-17T12:14:43.635310Z",
     "start_time": "2023-02-17T12:14:42.216799Z"
    }
   },
   "source": [
    "!pip install numpy\n",
    "!pip install pandas\n",
    "!pip install plotly\n",
    "!pip install matplotlib\n",
    "!pip install scikit-learn\n",
    "!pip install lightgbm"
   ]
  },
  {
   "cell_type": "code",
   "execution_count": 2,
   "id": "1ce21c93",
   "metadata": {
    "ExecuteTime": {
     "end_time": "2023-03-14T14:26:01.785560Z",
     "start_time": "2023-03-14T14:26:01.765215Z"
    }
   },
   "outputs": [],
   "source": [
    "import warnings \n",
    "warnings.filterwarnings('ignore')"
   ]
  },
  {
   "cell_type": "code",
   "execution_count": 12,
   "id": "7cb026be",
   "metadata": {
    "ExecuteTime": {
     "end_time": "2023-03-14T14:35:13.635332Z",
     "start_time": "2023-03-14T14:35:10.202005Z"
    }
   },
   "outputs": [
    {
     "name": "stdout",
     "output_type": "stream",
     "text": [
      "Requirement already satisfied: voila in c:\\users\\amanda.funabashi\\appdata\\roaming\\python\\python39\\site-packages (0.4.0)\n",
      "Requirement already satisfied: jupyter-server<2.0.0,>=1.18 in c:\\programdata\\anaconda3\\lib\\site-packages (from voila) (1.18.1)\n",
      "Requirement already satisfied: traitlets<6,>=5.0.3 in c:\\programdata\\anaconda3\\lib\\site-packages (from voila) (5.1.1)\n",
      "Requirement already satisfied: nbclient<0.8,>=0.4.0 in c:\\programdata\\anaconda3\\lib\\site-packages (from voila) (0.5.13)\n",
      "Requirement already satisfied: jupyter-core>=4.11.0 in c:\\programdata\\anaconda3\\lib\\site-packages (from voila) (4.11.1)\n",
      "Requirement already satisfied: jupyter-client<=7.4.1,>=6.1.3 in c:\\programdata\\anaconda3\\lib\\site-packages (from voila) (7.3.4)\n",
      "Requirement already satisfied: jupyterlab-server<3,>=2.3.0 in c:\\programdata\\anaconda3\\lib\\site-packages (from voila) (2.10.3)\n",
      "Requirement already satisfied: websockets>=9.0 in c:\\users\\amanda.funabashi\\appdata\\roaming\\python\\python39\\site-packages (from voila) (10.4)\n",
      "Requirement already satisfied: nbconvert<8,>=6.4.5 in c:\\users\\amanda.funabashi\\appdata\\roaming\\python\\python39\\site-packages (from voila) (7.2.9)\n",
      "Requirement already satisfied: entrypoints in c:\\programdata\\anaconda3\\lib\\site-packages (from jupyter-client<=7.4.1,>=6.1.3->voila) (0.4)\n",
      "Requirement already satisfied: tornado>=6.0 in c:\\programdata\\anaconda3\\lib\\site-packages (from jupyter-client<=7.4.1,>=6.1.3->voila) (6.1)\n",
      "Requirement already satisfied: nest-asyncio>=1.5.4 in c:\\programdata\\anaconda3\\lib\\site-packages (from jupyter-client<=7.4.1,>=6.1.3->voila) (1.5.5)\n",
      "Requirement already satisfied: python-dateutil>=2.8.2 in c:\\programdata\\anaconda3\\lib\\site-packages (from jupyter-client<=7.4.1,>=6.1.3->voila) (2.8.2)\n",
      "Requirement already satisfied: pyzmq>=23.0 in c:\\programdata\\anaconda3\\lib\\site-packages (from jupyter-client<=7.4.1,>=6.1.3->voila) (23.2.0)\n",
      "Requirement already satisfied: pywin32>=1.0 in c:\\programdata\\anaconda3\\lib\\site-packages (from jupyter-core>=4.11.0->voila) (302)\n",
      "Requirement already satisfied: nbformat>=5.2.0 in c:\\programdata\\anaconda3\\lib\\site-packages (from jupyter-server<2.0.0,>=1.18->voila) (5.5.0)\n",
      "Requirement already satisfied: pywinpty in c:\\programdata\\anaconda3\\lib\\site-packages (from jupyter-server<2.0.0,>=1.18->voila) (2.0.2)\n",
      "Requirement already satisfied: prometheus-client in c:\\programdata\\anaconda3\\lib\\site-packages (from jupyter-server<2.0.0,>=1.18->voila) (0.14.1)\n",
      "Requirement already satisfied: jinja2 in c:\\users\\amanda.funabashi\\appdata\\roaming\\python\\python39\\site-packages (from jupyter-server<2.0.0,>=1.18->voila) (3.1.2)\n",
      "Requirement already satisfied: argon2-cffi in c:\\programdata\\anaconda3\\lib\\site-packages (from jupyter-server<2.0.0,>=1.18->voila) (21.3.0)\n",
      "Requirement already satisfied: terminado>=0.8.3 in c:\\programdata\\anaconda3\\lib\\site-packages (from jupyter-server<2.0.0,>=1.18->voila) (0.13.1)\n",
      "Requirement already satisfied: websocket-client in c:\\programdata\\anaconda3\\lib\\site-packages (from jupyter-server<2.0.0,>=1.18->voila) (0.58.0)\n",
      "Requirement already satisfied: packaging in c:\\programdata\\anaconda3\\lib\\site-packages (from jupyter-server<2.0.0,>=1.18->voila) (21.3)\n",
      "Requirement already satisfied: Send2Trash in c:\\programdata\\anaconda3\\lib\\site-packages (from jupyter-server<2.0.0,>=1.18->voila) (1.8.0)\n",
      "Requirement already satisfied: anyio<4,>=3.1.0 in c:\\programdata\\anaconda3\\lib\\site-packages (from jupyter-server<2.0.0,>=1.18->voila) (3.5.0)\n",
      "Requirement already satisfied: babel in c:\\programdata\\anaconda3\\lib\\site-packages (from jupyterlab-server<3,>=2.3.0->voila) (2.9.1)\n",
      "Requirement already satisfied: requests in c:\\programdata\\anaconda3\\lib\\site-packages (from jupyterlab-server<3,>=2.3.0->voila) (2.28.1)\n",
      "Requirement already satisfied: jsonschema>=3.0.1 in c:\\programdata\\anaconda3\\lib\\site-packages (from jupyterlab-server<3,>=2.3.0->voila) (4.16.0)\n",
      "Requirement already satisfied: json5 in c:\\programdata\\anaconda3\\lib\\site-packages (from jupyterlab-server<3,>=2.3.0->voila) (0.9.6)\n",
      "Requirement already satisfied: bleach in c:\\programdata\\anaconda3\\lib\\site-packages (from nbconvert<8,>=6.4.5->voila) (4.1.0)\n",
      "Requirement already satisfied: pygments>=2.4.1 in c:\\programdata\\anaconda3\\lib\\site-packages (from nbconvert<8,>=6.4.5->voila) (2.11.2)\n",
      "Requirement already satisfied: defusedxml in c:\\programdata\\anaconda3\\lib\\site-packages (from nbconvert<8,>=6.4.5->voila) (0.7.1)\n",
      "Requirement already satisfied: tinycss2 in c:\\users\\amanda.funabashi\\appdata\\roaming\\python\\python39\\site-packages (from nbconvert<8,>=6.4.5->voila) (1.2.1)\n",
      "Requirement already satisfied: importlib-metadata>=3.6 in c:\\programdata\\anaconda3\\lib\\site-packages (from nbconvert<8,>=6.4.5->voila) (4.11.3)\n",
      "Requirement already satisfied: pandocfilters>=1.4.1 in c:\\programdata\\anaconda3\\lib\\site-packages (from nbconvert<8,>=6.4.5->voila) (1.5.0)\n",
      "Requirement already satisfied: mistune<3,>=2.0.3 in c:\\users\\amanda.funabashi\\appdata\\roaming\\python\\python39\\site-packages (from nbconvert<8,>=6.4.5->voila) (2.0.5)\n",
      "Requirement already satisfied: jupyterlab-pygments in c:\\programdata\\anaconda3\\lib\\site-packages (from nbconvert<8,>=6.4.5->voila) (0.1.2)\n",
      "Requirement already satisfied: markupsafe>=2.0 in c:\\programdata\\anaconda3\\lib\\site-packages (from nbconvert<8,>=6.4.5->voila) (2.0.1)\n",
      "Requirement already satisfied: beautifulsoup4 in c:\\programdata\\anaconda3\\lib\\site-packages (from nbconvert<8,>=6.4.5->voila) (4.11.1)\n",
      "Requirement already satisfied: idna>=2.8 in c:\\programdata\\anaconda3\\lib\\site-packages (from anyio<4,>=3.1.0->jupyter-server<2.0.0,>=1.18->voila) (3.3)\n",
      "Requirement already satisfied: sniffio>=1.1 in c:\\programdata\\anaconda3\\lib\\site-packages (from anyio<4,>=3.1.0->jupyter-server<2.0.0,>=1.18->voila) (1.2.0)\n",
      "Requirement already satisfied: zipp>=0.5 in c:\\programdata\\anaconda3\\lib\\site-packages (from importlib-metadata>=3.6->nbconvert<8,>=6.4.5->voila) (3.8.0)\n",
      "Requirement already satisfied: pyrsistent!=0.17.0,!=0.17.1,!=0.17.2,>=0.14.0 in c:\\programdata\\anaconda3\\lib\\site-packages (from jsonschema>=3.0.1->jupyterlab-server<3,>=2.3.0->voila) (0.18.0)\n",
      "Requirement already satisfied: attrs>=17.4.0 in c:\\programdata\\anaconda3\\lib\\site-packages (from jsonschema>=3.0.1->jupyterlab-server<3,>=2.3.0->voila) (21.4.0)\n",
      "Requirement already satisfied: fastjsonschema in c:\\programdata\\anaconda3\\lib\\site-packages (from nbformat>=5.2.0->jupyter-server<2.0.0,>=1.18->voila) (2.16.2)\n",
      "Requirement already satisfied: six>=1.5 in c:\\programdata\\anaconda3\\lib\\site-packages (from python-dateutil>=2.8.2->jupyter-client<=7.4.1,>=6.1.3->voila) (1.16.0)\n",
      "Requirement already satisfied: argon2-cffi-bindings in c:\\programdata\\anaconda3\\lib\\site-packages (from argon2-cffi->jupyter-server<2.0.0,>=1.18->voila) (21.2.0)\n",
      "Requirement already satisfied: pytz>=2015.7 in c:\\programdata\\anaconda3\\lib\\site-packages (from babel->jupyterlab-server<3,>=2.3.0->voila) (2022.1)\n",
      "Requirement already satisfied: soupsieve>1.2 in c:\\programdata\\anaconda3\\lib\\site-packages (from beautifulsoup4->nbconvert<8,>=6.4.5->voila) (2.3.1)\n",
      "Requirement already satisfied: webencodings in c:\\programdata\\anaconda3\\lib\\site-packages (from bleach->nbconvert<8,>=6.4.5->voila) (0.5.1)\n",
      "Requirement already satisfied: pyparsing!=3.0.5,>=2.0.2 in c:\\programdata\\anaconda3\\lib\\site-packages (from packaging->jupyter-server<2.0.0,>=1.18->voila) (3.0.9)\n",
      "Requirement already satisfied: charset-normalizer<3,>=2 in c:\\programdata\\anaconda3\\lib\\site-packages (from requests->jupyterlab-server<3,>=2.3.0->voila) (2.0.4)\n",
      "Requirement already satisfied: urllib3<1.27,>=1.21.1 in c:\\programdata\\anaconda3\\lib\\site-packages (from requests->jupyterlab-server<3,>=2.3.0->voila) (1.26.11)\n",
      "Requirement already satisfied: certifi>=2017.4.17 in c:\\programdata\\anaconda3\\lib\\site-packages (from requests->jupyterlab-server<3,>=2.3.0->voila) (2022.9.14)\n",
      "Requirement already satisfied: cffi>=1.0.1 in c:\\programdata\\anaconda3\\lib\\site-packages (from argon2-cffi-bindings->argon2-cffi->jupyter-server<2.0.0,>=1.18->voila) (1.15.1)\n",
      "Requirement already satisfied: pycparser in c:\\programdata\\anaconda3\\lib\\site-packages (from cffi>=1.0.1->argon2-cffi-bindings->argon2-cffi->jupyter-server<2.0.0,>=1.18->voila) (2.21)\n"
     ]
    }
   ],
   "source": [
    "!pip install voila --user"
   ]
  },
  {
   "cell_type": "code",
   "execution_count": 21,
   "id": "859b9d07",
   "metadata": {
    "ExecuteTime": {
     "end_time": "2023-03-14T14:44:22.439981Z",
     "start_time": "2023-03-14T14:44:22.424084Z"
    }
   },
   "outputs": [],
   "source": [
    "#!jupyter nbextension enable --py widgetsnbextension\n",
    "#!jupyter serverextension enable voila"
   ]
  },
  {
   "cell_type": "markdown",
   "id": "664d2b03",
   "metadata": {},
   "source": [
    "# Ciência de Dados e Inteligência Artificial"
   ]
  },
  {
   "cell_type": "markdown",
   "id": "c61c38f3",
   "metadata": {},
   "source": [
    "## O que é Ciência de Dados?"
   ]
  },
  {
   "cell_type": "markdown",
   "id": "5873474d",
   "metadata": {},
   "source": [
    "<img src=\"img/What-is-Data-Science-A-2.png\" width=\"60%\" height=\"30%\">"
   ]
  },
  {
   "cell_type": "markdown",
   "id": "c1092859",
   "metadata": {},
   "source": [
    "A Ciência de Dados é uma área de estudo abrangente e multidisciplinar, que compreende dados, algoritmos e tecnologias com capacidade de extrair informações valiosas de dados estruturados e não estruturados. As informações obtidas com análise e exploração dos dados, podem ser utilizadas para a tomada de decisões importantes, como a criação de novos produtos ou serviços, atualização de produtos, mudanças nos negócios e, até mesmo, qual será o futuro de uma organização. Ou seja, transformar dados em conhecimento.\n",
    "\n",
    "Dessa forma, o uso da ciência de dados está presente desde a definição dos processos de coleta de dados até o tratamento destes para geração de insights."
   ]
  },
  {
   "cell_type": "markdown",
   "id": "a5bc49af",
   "metadata": {},
   "source": [
    "Um dos maiores desafios da Ciência de dados está em converter os esforços em lidar com  **Big Data** e transformar em **resultados tangíveis**. Por isso, deve-se manter alinhada à estratégia da empresa e da gestão, de forma a encontrar uma solução em conjunto e colocá-la em produção."
   ]
  },
  {
   "cell_type": "markdown",
   "id": "b9ab3245",
   "metadata": {},
   "source": [
    "**Exemplos de aplicações práticas da ciência de dados:**\n",
    "    \n",
    "- Texto\n",
    "- Imagem\n",
    "- Som\n",
    "- Previsões\n",
    "- Segmentação\n",
    "- Classificação\n",
    "- Cesto de compras - Sistemas de recomendação\n",
    "- SNA - Análise de redes sociais\n",
    "- BI\n",
    "- Geolocalização"
   ]
  },
  {
   "cell_type": "markdown",
   "id": "99bd0579",
   "metadata": {},
   "source": [
    "<img src=\"img/venn2.png\" width=\"40%\" height=\"20%\"> "
   ]
  },
  {
   "cell_type": "markdown",
   "id": "253dcca9",
   "metadata": {},
   "source": [
    "## E qual a diferença entre Ciência de Dados, Inteligência Artificial e Machine Learning"
   ]
  },
  {
   "cell_type": "markdown",
   "id": "d318582c",
   "metadata": {},
   "source": [
    "Embora muitas vezes são trabalhados de maneira conjunta, cada um é responsável por uma função diferente:\n",
    "- **Machine learning (aprendizado de máquina)**: é uma parte da Inteligência Artificial, utilizando métodos de identificação automática de padrões. Baseia-se em \"ensinar\" a máquina a partir de um vasto conjunto de dados, utilizando-os de forma supervisionada ou não-supervisionada\n",
    "- **Inteligência Artificial**: É caracterizada como a capacidade das máquinas de realizar qualquer tarefa, de forma similar aos humanos. Fazendo uso de Machine Learning ou não.\n",
    "- **Ciência de Dados**: área de estudo que utiliza recursos de análise e visualização de dados, Machine Learning e Inteligência Artificial."
   ]
  },
  {
   "cell_type": "markdown",
   "id": "576b2ad7",
   "metadata": {},
   "source": [
    "<img src=\"img/DS_MLRelationship.webp\" width=\"40%\" height=\"20%\">"
   ]
  },
  {
   "cell_type": "markdown",
   "id": "d4d9d4b2",
   "metadata": {
    "ExecuteTime": {
     "end_time": "2023-02-17T12:00:43.065598Z",
     "start_time": "2023-02-17T12:00:43.055528Z"
    }
   },
   "source": [
    "## Mão na massa!"
   ]
  },
  {
   "cell_type": "markdown",
   "id": "d35e6b78",
   "metadata": {},
   "source": [
    "As linguagens de programação mais utilizadas por Cientistas de Dados são Python e R, pela fácil execução e disponibilidade de bibliotecas robustas para análise e modelagem de dados."
   ]
  },
  {
   "cell_type": "code",
   "execution_count": 6,
   "id": "fd1353d3",
   "metadata": {
    "ExecuteTime": {
     "end_time": "2023-03-10T18:56:37.554888Z",
     "start_time": "2023-03-10T18:56:35.724810Z"
    }
   },
   "outputs": [],
   "source": [
    "import pandas as pd\n",
    "from sklearn.utils import shuffle\n",
    "from sklearn.model_selection import train_test_split\n",
    "from sklearn.feature_extraction.text import TfidfVectorizer\n",
    "from sklearn.linear_model import LogisticRegression\n",
    "from sklearn.metrics import accuracy_score, f1_score, precision_score, recall_score\n",
    "from sklearn.model_selection import KFold, GridSearchCV\n",
    "import lightgbm as lgbm\n",
    "\n",
    "from unidecode import unidecode"
   ]
  },
  {
   "cell_type": "code",
   "execution_count": 7,
   "id": "83116ec6",
   "metadata": {
    "ExecuteTime": {
     "end_time": "2023-03-10T18:56:38.127068Z",
     "start_time": "2023-03-10T18:56:38.116103Z"
    }
   },
   "outputs": [],
   "source": [
    "pd.options.display.max_colwidth = 1000\n",
    "pd.options.display.max_rows = 1000 "
   ]
  },
  {
   "cell_type": "code",
   "execution_count": 8,
   "id": "e5d0b08b",
   "metadata": {
    "ExecuteTime": {
     "end_time": "2023-03-10T18:56:38.799945Z",
     "start_time": "2023-03-10T18:56:38.785864Z"
    }
   },
   "outputs": [],
   "source": [
    "def grid_search_model (x, y, clf, parameters, scorer, cv, verbose):\n",
    "    grid_obj = GridSearchCV(clf, parameters, scoring = scorer, cv =  cv, verbose= verbose)\n",
    "    grid_fit = grid_obj.fit(x, y)\n",
    "    print(\"Best score:\" , grid_fit.best_score_)\n",
    "    print(\"Best parameters:\" , grid_fit.best_params_)\n",
    "    return grid_fit, grid_fit.best_estimator_"
   ]
  },
  {
   "cell_type": "markdown",
   "id": "fc451bd2",
   "metadata": {},
   "source": [
    "### Dataset Reviews"
   ]
  },
  {
   "cell_type": "code",
   "execution_count": 46,
   "id": "47e7a9f4",
   "metadata": {
    "ExecuteTime": {
     "end_time": "2023-03-10T19:20:05.136501Z",
     "start_time": "2023-03-10T19:20:04.196189Z"
    }
   },
   "outputs": [],
   "source": [
    "data = pd.read_csv('buscape.csv').dropna().reset_index()"
   ]
  },
  {
   "cell_type": "code",
   "execution_count": 47,
   "id": "8b2ed521",
   "metadata": {
    "ExecuteTime": {
     "end_time": "2023-03-10T19:20:05.990598Z",
     "start_time": "2023-03-10T19:20:05.972095Z"
    }
   },
   "outputs": [
    {
     "data": {
      "text/plain": [
       "1.0    66816\n",
       "0.0     6810\n",
       "Name: polarity, dtype: int64"
      ]
     },
     "execution_count": 47,
     "metadata": {},
     "output_type": "execute_result"
    }
   ],
   "source": [
    "data.polarity.value_counts()"
   ]
  },
  {
   "cell_type": "code",
   "execution_count": 114,
   "id": "83d4dec3",
   "metadata": {
    "ExecuteTime": {
     "end_time": "2023-03-10T19:34:00.345534Z",
     "start_time": "2023-03-10T19:34:00.322664Z"
    }
   },
   "outputs": [],
   "source": [
    "X_train, X_test, y_train, y_test = train_test_split(data['review_text_processed'], data['polarity'], test_size=0.33, random_state=42)"
   ]
  },
  {
   "cell_type": "code",
   "execution_count": 115,
   "id": "20646953",
   "metadata": {
    "ExecuteTime": {
     "end_time": "2023-03-10T19:34:03.447470Z",
     "start_time": "2023-03-10T19:34:01.464752Z"
    }
   },
   "outputs": [],
   "source": [
    "vectorizer = TfidfVectorizer()\n",
    "X_train_tfidf = vectorizer.fit_transform(X_train)\n",
    "X_test_tfidf = vectorizer.transform(X_test.values)"
   ]
  },
  {
   "cell_type": "code",
   "execution_count": 116,
   "id": "0ca25d1c",
   "metadata": {
    "ExecuteTime": {
     "end_time": "2023-03-10T19:34:05.530061Z",
     "start_time": "2023-03-10T19:34:04.491255Z"
    }
   },
   "outputs": [
    {
     "data": {
      "text/plain": [
       "LogisticRegression()"
      ]
     },
     "execution_count": 116,
     "metadata": {},
     "output_type": "execute_result"
    }
   ],
   "source": [
    "reglog = LogisticRegression()\n",
    "reglog.fit(X_train_tfidf, y_train)"
   ]
  },
  {
   "cell_type": "code",
   "execution_count": 117,
   "id": "038f6893",
   "metadata": {
    "ExecuteTime": {
     "end_time": "2023-03-10T19:34:06.473290Z",
     "start_time": "2023-03-10T19:34:06.465785Z"
    }
   },
   "outputs": [],
   "source": [
    "y_pred = reglog.predict(X_test_tfidf)"
   ]
  },
  {
   "cell_type": "code",
   "execution_count": 118,
   "id": "92b03a71",
   "metadata": {
    "ExecuteTime": {
     "end_time": "2023-03-10T19:34:07.391686Z",
     "start_time": "2023-03-10T19:34:07.367692Z"
    }
   },
   "outputs": [],
   "source": [
    "res = pd.DataFrame(X_test)\n",
    "res['y_test'] = y_test\n",
    "res['y_pred'] = y_pred"
   ]
  },
  {
   "cell_type": "code",
   "execution_count": 120,
   "id": "f30c84ad",
   "metadata": {
    "ExecuteTime": {
     "end_time": "2023-03-10T19:34:09.273458Z",
     "start_time": "2023-03-10T19:34:09.263457Z"
    }
   },
   "outputs": [
    {
     "data": {
      "text/plain": [
       "0.9457134625673952"
      ]
     },
     "execution_count": 120,
     "metadata": {},
     "output_type": "execute_result"
    }
   ],
   "source": [
    "accuracy_score(y_test, y_pred)"
   ]
  },
  {
   "cell_type": "code",
   "execution_count": 121,
   "id": "8384c8a7",
   "metadata": {
    "ExecuteTime": {
     "end_time": "2023-03-10T19:34:10.403843Z",
     "start_time": "2023-03-10T19:34:10.384013Z"
    }
   },
   "outputs": [
    {
     "data": {
      "text/plain": [
       "0.970772673890403"
      ]
     },
     "execution_count": 121,
     "metadata": {},
     "output_type": "execute_result"
    }
   ],
   "source": [
    "f1_score(y_test, y_pred)"
   ]
  },
  {
   "cell_type": "code",
   "execution_count": 144,
   "id": "ef9b1b70",
   "metadata": {
    "ExecuteTime": {
     "end_time": "2023-03-10T19:38:30.920152Z",
     "start_time": "2023-03-10T19:38:30.912106Z"
    }
   },
   "outputs": [],
   "source": [
    "teste= 'não gostei'"
   ]
  },
  {
   "cell_type": "code",
   "execution_count": 145,
   "id": "784072f1",
   "metadata": {
    "ExecuteTime": {
     "end_time": "2023-03-10T19:38:31.872372Z",
     "start_time": "2023-03-10T19:38:31.856692Z"
    }
   },
   "outputs": [
    {
     "data": {
      "text/plain": [
       "array([0.])"
      ]
     },
     "execution_count": 145,
     "metadata": {},
     "output_type": "execute_result"
    }
   ],
   "source": [
    "reglog.predict(vectorizer.transform([unidecode(teste)]))"
   ]
  },
  {
   "cell_type": "markdown",
   "id": "d601b97d",
   "metadata": {},
   "source": [
    "### Dataset Fake News"
   ]
  },
  {
   "cell_type": "code",
   "execution_count": 9,
   "id": "46fc04d9",
   "metadata": {
    "ExecuteTime": {
     "end_time": "2023-03-10T18:56:39.716216Z",
     "start_time": "2023-03-10T18:56:39.468091Z"
    }
   },
   "outputs": [],
   "source": [
    "fakes = pd.read_csv('fakes.csv')\n",
    "fakes['label'] = [0 for i in fakes['label']]\n",
    "trues = pd.read_csv('true.csv')\n",
    "trues['label'] = [1 for i in trues['label']]\n",
    "\n",
    "data = shuffle(pd.concat([fakes, trues])).reset_index(drop = True)\n",
    "data['text'] = data['title'] + data['text']"
   ]
  },
  {
   "cell_type": "code",
   "execution_count": 12,
   "id": "718c363c",
   "metadata": {
    "ExecuteTime": {
     "end_time": "2023-03-10T18:56:51.463297Z",
     "start_time": "2023-03-10T18:56:51.450452Z"
    }
   },
   "outputs": [
    {
     "data": {
      "text/plain": [
       "0.8827485128028278"
      ]
     },
     "execution_count": 12,
     "metadata": {},
     "output_type": "execute_result"
    }
   ],
   "source": [
    "20478/data.shape[0]"
   ]
  },
  {
   "cell_type": "code",
   "execution_count": 5,
   "id": "6a173345",
   "metadata": {
    "ExecuteTime": {
     "end_time": "2023-03-10T17:49:42.000177Z",
     "start_time": "2023-03-10T17:49:41.985195Z"
    }
   },
   "outputs": [],
   "source": [
    "X_train, X_test, y_train, y_test = train_test_split(data['text'], data['label'], test_size=0.33, random_state=42)"
   ]
  },
  {
   "cell_type": "code",
   "execution_count": 6,
   "id": "43ee3a3d",
   "metadata": {
    "ExecuteTime": {
     "end_time": "2023-03-10T17:49:45.094484Z",
     "start_time": "2023-03-10T17:49:43.641285Z"
    }
   },
   "outputs": [],
   "source": [
    "corpus = X_train.apply(lambda x: unidecode(x)).values"
   ]
  },
  {
   "cell_type": "code",
   "execution_count": 7,
   "id": "e3c03899",
   "metadata": {
    "ExecuteTime": {
     "end_time": "2023-03-10T17:49:48.482470Z",
     "start_time": "2023-03-10T17:49:47.444029Z"
    }
   },
   "outputs": [],
   "source": [
    "vectorizer = TfidfVectorizer()\n",
    "X_train_tfidf = vectorizer.fit_transform(corpus)\n",
    "X_test_tfidf = vectorizer.transform(X_test.values)"
   ]
  },
  {
   "cell_type": "code",
   "execution_count": null,
   "id": "396ca002",
   "metadata": {
    "ExecuteTime": {
     "end_time": "2023-03-10T17:49:49.167437Z",
     "start_time": "2023-03-10T17:49:49.167437Z"
    }
   },
   "outputs": [],
   "source": [
    "#dict(zip(vectorizer.get_feature_names(), X_train_tfidf.toarray()[0]))"
   ]
  },
  {
   "cell_type": "code",
   "execution_count": 8,
   "id": "6cc9b3ff",
   "metadata": {
    "ExecuteTime": {
     "end_time": "2023-03-10T17:49:50.485086Z",
     "start_time": "2023-03-10T17:49:49.855457Z"
    }
   },
   "outputs": [
    {
     "data": {
      "text/plain": [
       "LogisticRegression()"
      ]
     },
     "execution_count": 8,
     "metadata": {},
     "output_type": "execute_result"
    }
   ],
   "source": [
    "reglog = LogisticRegression()\n",
    "reglog.fit(X_train_tfidf, y_train)"
   ]
  },
  {
   "cell_type": "code",
   "execution_count": 9,
   "id": "3e154ee9",
   "metadata": {
    "ExecuteTime": {
     "end_time": "2023-03-10T17:49:51.310809Z",
     "start_time": "2023-03-10T17:49:51.292780Z"
    }
   },
   "outputs": [],
   "source": [
    "y_pred = reglog.predict(X_test_tfidf)"
   ]
  },
  {
   "cell_type": "code",
   "execution_count": 10,
   "id": "1f05dc75",
   "metadata": {
    "ExecuteTime": {
     "end_time": "2023-03-10T17:49:52.333631Z",
     "start_time": "2023-03-10T17:49:52.313539Z"
    }
   },
   "outputs": [],
   "source": [
    "res = pd.DataFrame(X_test)\n",
    "res['y_test'] = y_test\n",
    "res['y_pred'] = y_pred\n",
    "res['pred_proba'] = reglog.predict_proba(X_test_tfidf)[:, 0]"
   ]
  },
  {
   "cell_type": "code",
   "execution_count": 11,
   "id": "3a1ff86c",
   "metadata": {
    "ExecuteTime": {
     "end_time": "2023-03-10T17:49:53.649771Z",
     "start_time": "2023-03-10T17:49:53.622725Z"
    }
   },
   "outputs": [
    {
     "data": {
      "text/html": [
       "<div>\n",
       "<style scoped>\n",
       "    .dataframe tbody tr th:only-of-type {\n",
       "        vertical-align: middle;\n",
       "    }\n",
       "\n",
       "    .dataframe tbody tr th {\n",
       "        vertical-align: top;\n",
       "    }\n",
       "\n",
       "    .dataframe thead th {\n",
       "        text-align: right;\n",
       "    }\n",
       "</style>\n",
       "<table border=\"1\" class=\"dataframe\">\n",
       "  <thead>\n",
       "    <tr style=\"text-align: right;\">\n",
       "      <th></th>\n",
       "      <th>text</th>\n",
       "      <th>y_test</th>\n",
       "      <th>y_pred</th>\n",
       "      <th>pred_proba</th>\n",
       "    </tr>\n",
       "  </thead>\n",
       "  <tbody>\n",
       "    <tr>\n",
       "      <th>11278</th>\n",
       "      <td>Charge do New York Times é de 2018 e não tem a ver com desfile militar em BrasíliaThe New York Times publicou charge sobre desfile militar em Brasília</td>\n",
       "      <td>0</td>\n",
       "      <td>0</td>\n",
       "      <td>0.894223</td>\n",
       "    </tr>\n",
       "    <tr>\n",
       "      <th>3226</th>\n",
       "      <td>Agências de saúde dos EUA não descartaram uso de teste RT-PCR para detectar covid-19CDC alerta para ineficácia de teste PCR para diagnóstico de covid</td>\n",
       "      <td>0</td>\n",
       "      <td>0</td>\n",
       "      <td>0.951557</td>\n",
       "    </tr>\n",
       "    <tr>\n",
       "      <th>20412</th>\n",
       "      <td>Um carro elétrico não pode ser recarregado instalando dínamos em suas rodasA instalação de um gerador ou dínamo nas rodas de um carro elétrico permite recarregar sua bateria</td>\n",
       "      <td>0</td>\n",
       "      <td>0</td>\n",
       "      <td>0.913034</td>\n",
       "    </tr>\n",
       "    <tr>\n",
       "      <th>7613</th>\n",
       "      <td>O discurso de Michel Temer, um ano depoisJá eliminamos vários ministérios da máquina pública</td>\n",
       "      <td>0</td>\n",
       "      <td>0</td>\n",
       "      <td>0.875822</td>\n",
       "    </tr>\n",
       "    <tr>\n",
       "      <th>247</th>\n",
       "      <td>Os homens com tatuagens nazistas fotografados em uma praia são húngaros, não refugiados ucranianosRefugiados ucranianos com tatuagens nazistas em praia da Croácia</td>\n",
       "      <td>0</td>\n",
       "      <td>0</td>\n",
       "      <td>0.841247</td>\n",
       "    </tr>\n",
       "    <tr>\n",
       "      <th>...</th>\n",
       "      <td>...</td>\n",
       "      <td>...</td>\n",
       "      <td>...</td>\n",
       "      <td>...</td>\n",
       "    </tr>\n",
       "    <tr>\n",
       "      <th>11583</th>\n",
       "      <td>É falso que autoridades italianas descobriram que Covid-19 é causada por bactériaOs médicos italianos desobedecem à lei mundial da saúde da OMS, para não realizar autópsias em pessoas que morreram de coronavírus, descobrindo que NÃO é um VÍRUS, mas sim uma BACTÉRIA, que causa a morte. Isso causa a formação de coágulos sanguíneos e causa a morte do paciente. (...) Fonte: Ministério da Saúde da Itália. COMPARTILHE!</td>\n",
       "      <td>0</td>\n",
       "      <td>0</td>\n",
       "      <td>0.974854</td>\n",
       "    </tr>\n",
       "    <tr>\n",
       "      <th>16273</th>\n",
       "      <td>Rotary Internacional está dando cesta básica para quem compartilhar link no WhatsApp #boatoO Rotary Internacional está doando cestas básicas para famílias afetadas pela crise mundial em todas as cidades do Brasil.</td>\n",
       "      <td>0</td>\n",
       "      <td>0</td>\n",
       "      <td>0.963247</td>\n",
       "    </tr>\n",
       "    <tr>\n",
       "      <th>18934</th>\n",
       "      <td>De Auxílio Brasil a desmatamento, de Petrobras a impostos: saiba quais dados eram falsos no debate da Band\"O menor desmatamento da Amazônia foi feito no meu governo\"</td>\n",
       "      <td>0</td>\n",
       "      <td>0</td>\n",
       "      <td>0.666810</td>\n",
       "    </tr>\n",
       "    <tr>\n",
       "      <th>5026</th>\n",
       "      <td>Mesário não tem como anular votos e alterar a assinatura do eleitor é crime eleitoralMesários podem anular seu voto na urna eletrônica</td>\n",
       "      <td>0</td>\n",
       "      <td>0</td>\n",
       "      <td>0.908776</td>\n",
       "    </tr>\n",
       "    <tr>\n",
       "      <th>373</th>\n",
       "      <td>Policiais do Chile são flagrados cheirando cocaína antes de manifestação #boatoSoldados chilenos cheirando cocaína antes de reprimir protestos do povo. No Vietnã os soldados dos EUA tinham autorização para usar cocaína e heroína antes do combate. Nada adiantou, foram derrotados, assim como serão esses filhotes de Pinochet. #chile</td>\n",
       "      <td>0</td>\n",
       "      <td>0</td>\n",
       "      <td>0.935331</td>\n",
       "    </tr>\n",
       "  </tbody>\n",
       "</table>\n",
       "<p>7656 rows × 4 columns</p>\n",
       "</div>"
      ],
      "text/plain": [
       "                                                                                                                                                                                                                                                                                                                                                                                                                                   text  \\\n",
       "11278                                                                                                                                                                                                                                                                            Charge do New York Times é de 2018 e não tem a ver com desfile militar em BrasíliaThe New York Times publicou charge sobre desfile militar em Brasília   \n",
       "3226                                                                                                                                                                                                                                                                              Agências de saúde dos EUA não descartaram uso de teste RT-PCR para detectar covid-19CDC alerta para ineficácia de teste PCR para diagnóstico de covid   \n",
       "20412                                                                                                                                                                                                                                                     Um carro elétrico não pode ser recarregado instalando dínamos em suas rodasA instalação de um gerador ou dínamo nas rodas de um carro elétrico permite recarregar sua bateria   \n",
       "7613                                                                                                                                                                                                                                                                                                                                       O discurso de Michel Temer, um ano depoisJá eliminamos vários ministérios da máquina pública   \n",
       "247                                                                                                                                                                                                                                                                  Os homens com tatuagens nazistas fotografados em uma praia são húngaros, não refugiados ucranianosRefugiados ucranianos com tatuagens nazistas em praia da Croácia   \n",
       "...                                                                                                                                                                                                                                                                                                                                                                                                                                 ...   \n",
       "11583  É falso que autoridades italianas descobriram que Covid-19 é causada por bactériaOs médicos italianos desobedecem à lei mundial da saúde da OMS, para não realizar autópsias em pessoas que morreram de coronavírus, descobrindo que NÃO é um VÍRUS, mas sim uma BACTÉRIA, que causa a morte. Isso causa a formação de coágulos sanguíneos e causa a morte do paciente. (...) Fonte: Ministério da Saúde da Itália. COMPARTILHE!   \n",
       "16273                                                                                                                                                                                                             Rotary Internacional está dando cesta básica para quem compartilhar link no WhatsApp #boatoO Rotary Internacional está doando cestas básicas para famílias afetadas pela crise mundial em todas as cidades do Brasil.   \n",
       "18934                                                                                                                                                                                                                                                             De Auxílio Brasil a desmatamento, de Petrobras a impostos: saiba quais dados eram falsos no debate da Band\"O menor desmatamento da Amazônia foi feito no meu governo\"   \n",
       "5026                                                                                                                                                                                                                                                                                             Mesário não tem como anular votos e alterar a assinatura do eleitor é crime eleitoralMesários podem anular seu voto na urna eletrônica   \n",
       "373                                                                                         Policiais do Chile são flagrados cheirando cocaína antes de manifestação #boatoSoldados chilenos cheirando cocaína antes de reprimir protestos do povo. No Vietnã os soldados dos EUA tinham autorização para usar cocaína e heroína antes do combate. Nada adiantou, foram derrotados, assim como serão esses filhotes de Pinochet. #chile   \n",
       "\n",
       "       y_test  y_pred  pred_proba  \n",
       "11278       0       0    0.894223  \n",
       "3226        0       0    0.951557  \n",
       "20412       0       0    0.913034  \n",
       "7613        0       0    0.875822  \n",
       "247         0       0    0.841247  \n",
       "...       ...     ...         ...  \n",
       "11583       0       0    0.974854  \n",
       "16273       0       0    0.963247  \n",
       "18934       0       0    0.666810  \n",
       "5026        0       0    0.908776  \n",
       "373         0       0    0.935331  \n",
       "\n",
       "[7656 rows x 4 columns]"
      ]
     },
     "execution_count": 11,
     "metadata": {},
     "output_type": "execute_result"
    }
   ],
   "source": [
    "res"
   ]
  },
  {
   "cell_type": "code",
   "execution_count": 12,
   "id": "06162e7a",
   "metadata": {
    "ExecuteTime": {
     "end_time": "2023-03-10T17:49:54.895361Z",
     "start_time": "2023-03-10T17:49:54.873362Z"
    }
   },
   "outputs": [],
   "source": [
    "teste = vectorizer.transform(['Portugal tem policias'])"
   ]
  },
  {
   "cell_type": "code",
   "execution_count": 13,
   "id": "85a62b32",
   "metadata": {
    "ExecuteTime": {
     "end_time": "2023-03-10T17:49:57.229047Z",
     "start_time": "2023-03-10T17:49:57.206052Z"
    }
   },
   "outputs": [
    {
     "data": {
      "text/plain": [
       "array([1], dtype=int64)"
      ]
     },
     "execution_count": 13,
     "metadata": {},
     "output_type": "execute_result"
    }
   ],
   "source": [
    "reglog.predict(teste)"
   ]
  },
  {
   "cell_type": "code",
   "execution_count": 14,
   "id": "fcd20d9f",
   "metadata": {
    "ExecuteTime": {
     "end_time": "2023-03-10T17:50:00.158838Z",
     "start_time": "2023-03-10T17:50:00.142177Z"
    }
   },
   "outputs": [
    {
     "data": {
      "text/plain": [
       "0.8804858934169278"
      ]
     },
     "execution_count": 14,
     "metadata": {},
     "output_type": "execute_result"
    }
   ],
   "source": [
    "accuracy_score(y_test, y_pred)"
   ]
  },
  {
   "cell_type": "code",
   "execution_count": 15,
   "id": "f2160d42",
   "metadata": {
    "ExecuteTime": {
     "end_time": "2023-03-10T17:50:01.682462Z",
     "start_time": "2023-03-10T17:50:01.664827Z"
    }
   },
   "outputs": [
    {
     "data": {
      "text/plain": [
       "0.06537282941777324"
      ]
     },
     "execution_count": 15,
     "metadata": {},
     "output_type": "execute_result"
    }
   ],
   "source": [
    "f1_score(y_test, y_pred)"
   ]
  },
  {
   "cell_type": "code",
   "execution_count": 16,
   "id": "cd08391b",
   "metadata": {
    "ExecuteTime": {
     "end_time": "2023-03-10T17:50:02.865184Z",
     "start_time": "2023-03-10T17:50:02.847173Z"
    }
   },
   "outputs": [
    {
     "data": {
      "text/plain": [
       "0.48484848484848486"
      ]
     },
     "execution_count": 16,
     "metadata": {},
     "output_type": "execute_result"
    }
   ],
   "source": [
    "precision_score(y_test, y_pred)"
   ]
  },
  {
   "cell_type": "code",
   "execution_count": 17,
   "id": "86044316",
   "metadata": {
    "ExecuteTime": {
     "end_time": "2023-03-10T17:50:04.296134Z",
     "start_time": "2023-03-10T17:50:04.266918Z"
    }
   },
   "outputs": [
    {
     "data": {
      "text/plain": [
       "0.03504928806133625"
      ]
     },
     "execution_count": 17,
     "metadata": {},
     "output_type": "execute_result"
    }
   ],
   "source": [
    "recall_score(y_test, y_pred)"
   ]
  },
  {
   "cell_type": "code",
   "execution_count": null,
   "id": "964a2deb",
   "metadata": {},
   "outputs": [],
   "source": []
  }
 ],
 "metadata": {
  "kernelspec": {
   "display_name": "Python 3 (ipykernel)",
   "language": "python",
   "name": "python3"
  },
  "language_info": {
   "codemirror_mode": {
    "name": "ipython",
    "version": 3
   },
   "file_extension": ".py",
   "mimetype": "text/x-python",
   "name": "python",
   "nbconvert_exporter": "python",
   "pygments_lexer": "ipython3",
   "version": "3.9.13"
  },
  "toc": {
   "base_numbering": 1,
   "nav_menu": {},
   "number_sections": true,
   "sideBar": true,
   "skip_h1_title": false,
   "title_cell": "Table of Contents",
   "title_sidebar": "Contents",
   "toc_cell": false,
   "toc_position": {},
   "toc_section_display": true,
   "toc_window_display": false
  },
  "varInspector": {
   "cols": {
    "lenName": 16,
    "lenType": 16,
    "lenVar": 40
   },
   "kernels_config": {
    "python": {
     "delete_cmd_postfix": "",
     "delete_cmd_prefix": "del ",
     "library": "var_list.py",
     "varRefreshCmd": "print(var_dic_list())"
    },
    "r": {
     "delete_cmd_postfix": ") ",
     "delete_cmd_prefix": "rm(",
     "library": "var_list.r",
     "varRefreshCmd": "cat(var_dic_list()) "
    }
   },
   "types_to_exclude": [
    "module",
    "function",
    "builtin_function_or_method",
    "instance",
    "_Feature"
   ],
   "window_display": false
  }
 },
 "nbformat": 4,
 "nbformat_minor": 5
}
