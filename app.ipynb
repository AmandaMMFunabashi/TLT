{
 "cells": [
  {
   "cell_type": "markdown",
   "id": "6204fea7",
   "metadata": {
    "ExecuteTime": {
     "end_time": "2023-02-17T12:14:43.635310Z",
     "start_time": "2023-02-17T12:14:42.216799Z"
    }
   },
   "source": [
    "!pip install numpy\n",
    "!pip install pandas\n",
    "!pip install plotly\n",
    "!pip install matplotlib\n",
    "!pip install scikit-learn\n",
    "!pip install lightgbm"
   ]
  },
  {
   "cell_type": "markdown",
   "id": "664d2b03",
   "metadata": {},
   "source": [
    "# Ciência de Dados e Inteligência Artificial"
   ]
  },
  {
   "cell_type": "markdown",
   "id": "c61c38f3",
   "metadata": {},
   "source": [
    "## O que é Ciência de Dados?"
   ]
  },
  {
   "cell_type": "markdown",
   "id": "5873474d",
   "metadata": {},
   "source": [
    "<img src=\"../img/What-is-Data-Science-A-2.png.crdownload\" width=\"60%\" height=\"30%\">"
   ]
  },
  {
   "cell_type": "markdown",
   "id": "c1092859",
   "metadata": {},
   "source": [
    "A Ciência de Dados é uma área de estudo abrangente e multidisciplinar, que compreende dados, algoritmos e tecnologias com capacidade de extrair informações valiosas de dados estruturados e não estruturados. As informações obtidas com Ciência de Dados, na maioria dos casos, são utilizadas para a tomada de decisões importantes, como a criação de novos produtos ou serviços, atualização de produtos, mudanças nos negócios e, até mesmo, qual será o futuro de uma organização. Ou seja, transformar dados em conhecimento.\n",
    "\n",
    "Dessa forma, o uso da ciência de dados está presente desde a definição dos processos de coleta de dados até o tratamento destes para geração de insights."
   ]
  },
  {
   "cell_type": "markdown",
   "id": "a5bc49af",
   "metadata": {},
   "source": [
    "Um dos maiores desafios da Ciência de dados está em converter os esforços em lidar com  **Big Data** e transformar em **resultados tangíveis**. Por isso, deve-se manter alinhada à estratégia da empresa e da gestão, de forma a encontrar uma solução em conjunto e colocá-la em produção."
   ]
  },
  {
   "cell_type": "markdown",
   "id": "b9ab3245",
   "metadata": {},
   "source": [
    "**Exemplos de aplicações práticas da ciência de dados:**\n",
    "    \n",
    "- Texto\n",
    "- Imagem\n",
    "- Som\n",
    "- Previsões\n",
    "- Segmentação\n",
    "- Classificação\n",
    "- Cesto de compras - Sistemas de recomendação\n",
    "- SNA - Análise de redes sociais\n",
    "- BI\n",
    "- Geolocalização"
   ]
  },
  {
   "cell_type": "markdown",
   "id": "99bd0579",
   "metadata": {},
   "source": [
    "<img src=\"../img/venn2.png\" width=\"40%\" height=\"20%\"> "
   ]
  },
  {
   "cell_type": "markdown",
   "id": "253dcca9",
   "metadata": {},
   "source": [
    "## E qual a diferença entre Ciência de Dados, Inteligência Artificial e Machine Learning"
   ]
  },
  {
   "cell_type": "markdown",
   "id": "d318582c",
   "metadata": {},
   "source": [
    "Embora muitas vezes são trabalhados de maneira conjunta, cada um é responsável por uma função diferente:\n",
    "- **Machine learning (aprendizado de máquina)**: é uma parte da Inteligência Artificial, utilizando métodos de identificação automática de padrões. Baseia-se em \"ensinar\" a máquina a partir de um vasto conjunto de dados, utilizando-os de forma supervisionada ou não-supervisionada\n",
    "- **Inteligência Artificial**: É caracterizada como a capacidade das máquinas de realizar qualquer tarefa, de forma similar aos humanos. Fazendo uso de Machine Learning ou não.\n",
    "- **Ciência de Dados**: área de estudo que utiliza recursos de análise e visualização de dados, Machine Learning e Inteligência Artificial."
   ]
  },
  {
   "cell_type": "markdown",
   "id": "576b2ad7",
   "metadata": {},
   "source": [
    "<img src=\"../img/DS_MLRelationship.webp\" width=\"40%\" height=\"20%\">"
   ]
  },
  {
   "cell_type": "markdown",
   "id": "d4d9d4b2",
   "metadata": {
    "ExecuteTime": {
     "end_time": "2023-02-17T12:00:43.065598Z",
     "start_time": "2023-02-17T12:00:43.055528Z"
    }
   },
   "source": [
    "## Mão na massa!"
   ]
  },
  {
   "cell_type": "markdown",
   "id": "d35e6b78",
   "metadata": {},
   "source": [
    "As linguagens de programação mais utilizadas por Cientistas de Dados são Python e R, pela fácil execução e disponibilidade de bibliotecas robustas para análise e modelagem de dados."
   ]
  },
  {
   "cell_type": "code",
   "execution_count": 198,
   "id": "fd1353d3",
   "metadata": {
    "ExecuteTime": {
     "end_time": "2023-03-06T20:10:25.377799Z",
     "start_time": "2023-03-06T20:10:25.347174Z"
    }
   },
   "outputs": [],
   "source": [
    "import pandas as pd\n",
    "from sklearn.utils import shuffle\n",
    "from sklearn.model_selection import train_test_split\n",
    "from sklearn.feature_extraction.text import TfidfVectorizer\n",
    "from sklearn.linear_model import LogisticRegression\n",
    "from sklearn.metrics import accuracy_score, f1_score, precision_score, recall_score\n",
    "from sklearn.model_selection import KFold, GridSearchCV\n",
    "import lightgbm as lgbm\n",
    "\n",
    "from unidecode import unidecode"
   ]
  },
  {
   "cell_type": "code",
   "execution_count": 102,
   "id": "83116ec6",
   "metadata": {
    "ExecuteTime": {
     "end_time": "2023-03-06T19:33:37.786384Z",
     "start_time": "2023-03-06T19:33:37.769071Z"
    }
   },
   "outputs": [],
   "source": [
    "pd.options.display.max_colwidth = 1000\n",
    "pd.options.display.max_rows = 1000 "
   ]
  },
  {
   "cell_type": "code",
   "execution_count": 153,
   "id": "e5d0b08b",
   "metadata": {
    "ExecuteTime": {
     "end_time": "2023-03-06T19:43:47.613872Z",
     "start_time": "2023-03-06T19:43:47.598914Z"
    }
   },
   "outputs": [],
   "source": [
    "def grid_search_model (x, y, clf, parameters, scorer, cv, verbose):\n",
    "    grid_obj = GridSearchCV(clf, parameters, scoring = scorer, cv =  cv, verbose= verbose)\n",
    "    grid_fit = grid_obj.fit(x, y)\n",
    "    print(\"Best score:\" , grid_fit.best_score_)\n",
    "    print(\"Best parameters:\" , grid_fit.best_params_)\n",
    "    return grid_fit, grid_fit.best_estimator_"
   ]
  },
  {
   "cell_type": "code",
   "execution_count": 143,
   "id": "46fc04d9",
   "metadata": {
    "ExecuteTime": {
     "end_time": "2023-03-06T19:42:10.827758Z",
     "start_time": "2023-03-06T19:42:10.517094Z"
    }
   },
   "outputs": [],
   "source": [
    "fakes = pd.read_csv('fakes.csv')\n",
    "fakes['label'] = [0 for i in fakes['label']]\n",
    "trues = pd.read_csv('true.csv')\n",
    "trues['label'] = [1 for i in trues['label']]\n",
    "\n",
    "data = shuffle(pd.concat([fakes, trues])).reset_index(drop = True)\n",
    "data['text'] = data['title'] + data['text']"
   ]
  },
  {
   "cell_type": "code",
   "execution_count": 144,
   "id": "6a173345",
   "metadata": {
    "ExecuteTime": {
     "end_time": "2023-03-06T19:42:11.586890Z",
     "start_time": "2023-03-06T19:42:11.565560Z"
    }
   },
   "outputs": [],
   "source": [
    "X_train, X_test, y_train, y_test = train_test_split(data['text'], data['label'], test_size=0.33, random_state=42)"
   ]
  },
  {
   "cell_type": "code",
   "execution_count": 145,
   "id": "43ee3a3d",
   "metadata": {
    "ExecuteTime": {
     "end_time": "2023-03-06T19:42:15.443892Z",
     "start_time": "2023-03-06T19:42:14.077055Z"
    }
   },
   "outputs": [],
   "source": [
    "corpus = X_train.apply(lambda x: unidecode(x)).values"
   ]
  },
  {
   "cell_type": "code",
   "execution_count": 146,
   "id": "e3c03899",
   "metadata": {
    "ExecuteTime": {
     "end_time": "2023-03-06T19:42:17.342272Z",
     "start_time": "2023-03-06T19:42:16.478430Z"
    }
   },
   "outputs": [],
   "source": [
    "vectorizer = TfidfVectorizer()\n",
    "X_train_tfidf = vectorizer.fit_transform(corpus)\n",
    "X_test_tfidf = vectorizer.transform(X_test.values)"
   ]
  },
  {
   "cell_type": "code",
   "execution_count": 136,
   "id": "396ca002",
   "metadata": {
    "ExecuteTime": {
     "end_time": "2023-03-06T19:40:22.763391Z",
     "start_time": "2023-03-06T19:40:22.745309Z"
    }
   },
   "outputs": [],
   "source": [
    "#dict(zip(vectorizer.get_feature_names(), X_train_tfidf.toarray()[0]))"
   ]
  },
  {
   "cell_type": "code",
   "execution_count": 183,
   "id": "6cc9b3ff",
   "metadata": {
    "ExecuteTime": {
     "end_time": "2023-03-06T20:07:38.840539Z",
     "start_time": "2023-03-06T20:07:38.328639Z"
    }
   },
   "outputs": [
    {
     "data": {
      "text/plain": [
       "LogisticRegression()"
      ]
     },
     "execution_count": 183,
     "metadata": {},
     "output_type": "execute_result"
    }
   ],
   "source": [
    "reglog = LogisticRegression()\n",
    "reglog.fit(X_train_tfidf, y_train)"
   ]
  },
  {
   "cell_type": "code",
   "execution_count": 190,
   "id": "3e154ee9",
   "metadata": {
    "ExecuteTime": {
     "end_time": "2023-03-06T20:09:35.821243Z",
     "start_time": "2023-03-06T20:09:35.809126Z"
    }
   },
   "outputs": [],
   "source": [
    "y_pred = reglog.predict(X_test_tfidf)"
   ]
  },
  {
   "cell_type": "code",
   "execution_count": 191,
   "id": "1f05dc75",
   "metadata": {
    "ExecuteTime": {
     "end_time": "2023-03-06T20:09:36.534950Z",
     "start_time": "2023-03-06T20:09:36.511035Z"
    }
   },
   "outputs": [],
   "source": [
    "res = pd.DataFrame(X_test)\n",
    "res['y_test'] = y_test\n",
    "res['y_pred'] = y_pred\n",
    "res['pred_proba'] = reglog.predict_proba(X_test_tfidf)[:, 0]"
   ]
  },
  {
   "cell_type": "code",
   "execution_count": 192,
   "id": "3a1ff86c",
   "metadata": {
    "ExecuteTime": {
     "end_time": "2023-03-06T20:09:37.135231Z",
     "start_time": "2023-03-06T20:09:37.112611Z"
    }
   },
   "outputs": [
    {
     "data": {
      "text/html": [
       "<div>\n",
       "<style scoped>\n",
       "    .dataframe tbody tr th:only-of-type {\n",
       "        vertical-align: middle;\n",
       "    }\n",
       "\n",
       "    .dataframe tbody tr th {\n",
       "        vertical-align: top;\n",
       "    }\n",
       "\n",
       "    .dataframe thead th {\n",
       "        text-align: right;\n",
       "    }\n",
       "</style>\n",
       "<table border=\"1\" class=\"dataframe\">\n",
       "  <thead>\n",
       "    <tr style=\"text-align: right;\">\n",
       "      <th></th>\n",
       "      <th>text</th>\n",
       "      <th>y_test</th>\n",
       "      <th>y_pred</th>\n",
       "      <th>pred_proba</th>\n",
       "    </tr>\n",
       "  </thead>\n",
       "  <tbody>\n",
       "    <tr>\n",
       "      <th>11278</th>\n",
       "      <td>É falso que Vinícius Júnior dedicou gol a Bolsonaro no jornal The New York Times’Dedico esse gol primeiramente a Deus e segundo ao presidente do meu país, Jair Messias Bolsonaro, que se Deus quiser vai ser reeleito esse ano’ - Vini Jr ao The New York Times</td>\n",
       "      <td>0</td>\n",
       "      <td>0</td>\n",
       "      <td>0.966638</td>\n",
       "    </tr>\n",
       "    <tr>\n",
       "      <th>3226</th>\n",
       "      <td>Taxa ou receita de IMI \"subiu 53% nos últimos 10 anos\"?Taxa ou receita de IMI \"subiu 53% nos últimos 10 anos\"?</td>\n",
       "      <td>0</td>\n",
       "      <td>0</td>\n",
       "      <td>0.841297</td>\n",
       "    </tr>\n",
       "    <tr>\n",
       "      <th>20412</th>\n",
       "      <td>Temer não ‘oficializa fim do projeto Farmácia Popular’Temer oficializa fim do projeto Farmácia Popular</td>\n",
       "      <td>0</td>\n",
       "      <td>0</td>\n",
       "      <td>0.898280</td>\n",
       "    </tr>\n",
       "    <tr>\n",
       "      <th>7613</th>\n",
       "      <td>É montagem foto de Freixo com cartaz dizendo que ‘único objetivo da esquerda é derrubar o governo Bolsonaro’O único objetivo da esquerda é derrubar o governo Bolsonaro. O Brasil que se dane!</td>\n",
       "      <td>0</td>\n",
       "      <td>0</td>\n",
       "      <td>0.970036</td>\n",
       "    </tr>\n",
       "    <tr>\n",
       "      <th>247</th>\n",
       "      <td>Foto de Bolsonaro ao lado de André Mendonça é de 2019, anterior à nomeação como ministro do STFMinistro do STF acompanhar um presidente em jogo de futebol é algo estranho</td>\n",
       "      <td>0</td>\n",
       "      <td>0</td>\n",
       "      <td>0.979544</td>\n",
       "    </tr>\n",
       "    <tr>\n",
       "      <th>...</th>\n",
       "      <td>...</td>\n",
       "      <td>...</td>\n",
       "      <td>...</td>\n",
       "      <td>...</td>\n",
       "    </tr>\n",
       "    <tr>\n",
       "      <th>11583</th>\n",
       "      <td>Não, a deputada Maria do Rosário não perdeu dentadura em votação na CCJA deputada Maria do Rosário perdeu a sua dentadura durante uma votação na CCJ.</td>\n",
       "      <td>0</td>\n",
       "      <td>0</td>\n",
       "      <td>0.896720</td>\n",
       "    </tr>\n",
       "    <tr>\n",
       "      <th>16273</th>\n",
       "      <td>PS: \"Portugal destaca-se entre os países da OCDE que mais cortou carga fiscal sobre o trabalho.\" Será verdade?PS: \"Portugal destaca-se entre os países da OCDE que mais cortou carga fiscal sobre o trabalho.\" Será verdade?</td>\n",
       "      <td>0</td>\n",
       "      <td>1</td>\n",
       "      <td>0.318210</td>\n",
       "    </tr>\n",
       "    <tr>\n",
       "      <th>18934</th>\n",
       "      <td>Fact Check. Imagem de scooter para mobilidade reduzida na Ponte 25 de Abril é verdadeira?\"Homem em contramão numa scooter para pessoas com mobilidade reduzida no tabuleiro da Ponte 25 de Abril\"</td>\n",
       "      <td>0</td>\n",
       "      <td>0</td>\n",
       "      <td>0.921810</td>\n",
       "    </tr>\n",
       "    <tr>\n",
       "      <th>5026</th>\n",
       "      <td>Post erra ao comparar taxa de letalidade da Covid-19 em Minas Gerais, São Paulo, Ceará e Rio de JaneiroEm *Minas Gerais* , onde *o governador é sério e não está envolvido na trama para derrubar o Presidente*, a taxa de letalidade da covid-19 é (...) mais de 31 vezes menor que no Rio de Janeiro?</td>\n",
       "      <td>0</td>\n",
       "      <td>0</td>\n",
       "      <td>0.921705</td>\n",
       "    </tr>\n",
       "    <tr>\n",
       "      <th>373</th>\n",
       "      <td>O vídeo com “chuva de drones” na verdade mostra um espetáculo que fracassou na ChinaVídeo mostra todos os drones de vigilância caindo na China por causa do apagão</td>\n",
       "      <td>0</td>\n",
       "      <td>0</td>\n",
       "      <td>0.969652</td>\n",
       "    </tr>\n",
       "  </tbody>\n",
       "</table>\n",
       "<p>7656 rows × 4 columns</p>\n",
       "</div>"
      ],
      "text/plain": [
       "                                                                                                                                                                                                                                                                                                          text  \\\n",
       "11278                                         É falso que Vinícius Júnior dedicou gol a Bolsonaro no jornal The New York Times’Dedico esse gol primeiramente a Deus e segundo ao presidente do meu país, Jair Messias Bolsonaro, que se Deus quiser vai ser reeleito esse ano’ - Vini Jr ao The New York Times   \n",
       "3226                                                                                                                                                                                            Taxa ou receita de IMI \"subiu 53% nos últimos 10 anos\"?Taxa ou receita de IMI \"subiu 53% nos últimos 10 anos\"?   \n",
       "20412                                                                                                                                                                                                   Temer não ‘oficializa fim do projeto Farmácia Popular’Temer oficializa fim do projeto Farmácia Popular   \n",
       "7613                                                                                                            É montagem foto de Freixo com cartaz dizendo que ‘único objetivo da esquerda é derrubar o governo Bolsonaro’O único objetivo da esquerda é derrubar o governo Bolsonaro. O Brasil que se dane!   \n",
       "247                                                                                                                                 Foto de Bolsonaro ao lado de André Mendonça é de 2019, anterior à nomeação como ministro do STFMinistro do STF acompanhar um presidente em jogo de futebol é algo estranho   \n",
       "...                                                                                                                                                                                                                                                                                                        ...   \n",
       "11583                                                                                                                                                    Não, a deputada Maria do Rosário não perdeu dentadura em votação na CCJA deputada Maria do Rosário perdeu a sua dentadura durante uma votação na CCJ.   \n",
       "16273                                                                             PS: \"Portugal destaca-se entre os países da OCDE que mais cortou carga fiscal sobre o trabalho.\" Será verdade?PS: \"Portugal destaca-se entre os países da OCDE que mais cortou carga fiscal sobre o trabalho.\" Será verdade?   \n",
       "18934                                                                                                        Fact Check. Imagem de scooter para mobilidade reduzida na Ponte 25 de Abril é verdadeira?\"Homem em contramão numa scooter para pessoas com mobilidade reduzida no tabuleiro da Ponte 25 de Abril\"   \n",
       "5026   Post erra ao comparar taxa de letalidade da Covid-19 em Minas Gerais, São Paulo, Ceará e Rio de JaneiroEm *Minas Gerais* , onde *o governador é sério e não está envolvido na trama para derrubar o Presidente*, a taxa de letalidade da covid-19 é (...) mais de 31 vezes menor que no Rio de Janeiro?   \n",
       "373                                                                                                                                         O vídeo com “chuva de drones” na verdade mostra um espetáculo que fracassou na ChinaVídeo mostra todos os drones de vigilância caindo na China por causa do apagão   \n",
       "\n",
       "       y_test  y_pred  pred_proba  \n",
       "11278       0       0    0.966638  \n",
       "3226        0       0    0.841297  \n",
       "20412       0       0    0.898280  \n",
       "7613        0       0    0.970036  \n",
       "247         0       0    0.979544  \n",
       "...       ...     ...         ...  \n",
       "11583       0       0    0.896720  \n",
       "16273       0       1    0.318210  \n",
       "18934       0       0    0.921810  \n",
       "5026        0       0    0.921705  \n",
       "373         0       0    0.969652  \n",
       "\n",
       "[7656 rows x 4 columns]"
      ]
     },
     "execution_count": 192,
     "metadata": {},
     "output_type": "execute_result"
    }
   ],
   "source": [
    "res"
   ]
  },
  {
   "cell_type": "code",
   "execution_count": 203,
   "id": "06162e7a",
   "metadata": {
    "ExecuteTime": {
     "end_time": "2023-03-06T20:11:25.731173Z",
     "start_time": "2023-03-06T20:11:25.723176Z"
    }
   },
   "outputs": [],
   "source": [
    "teste = vectorizer.transform(['Portugal tem policias'])"
   ]
  },
  {
   "cell_type": "code",
   "execution_count": 204,
   "id": "85a62b32",
   "metadata": {
    "ExecuteTime": {
     "end_time": "2023-03-06T20:11:26.485863Z",
     "start_time": "2023-03-06T20:11:26.473370Z"
    }
   },
   "outputs": [
    {
     "data": {
      "text/plain": [
       "array([1], dtype=int64)"
      ]
     },
     "execution_count": 204,
     "metadata": {},
     "output_type": "execute_result"
    }
   ],
   "source": [
    "reglog.predict(teste)"
   ]
  },
  {
   "cell_type": "code",
   "execution_count": 196,
   "id": "fcd20d9f",
   "metadata": {
    "ExecuteTime": {
     "end_time": "2023-03-06T20:09:54.947630Z",
     "start_time": "2023-03-06T20:09:54.937639Z"
    }
   },
   "outputs": [
    {
     "data": {
      "text/plain": [
       "0.8810083594566354"
      ]
     },
     "execution_count": 196,
     "metadata": {},
     "output_type": "execute_result"
    }
   ],
   "source": [
    "accuracy_score(y_test, y_pred)"
   ]
  },
  {
   "cell_type": "code",
   "execution_count": 197,
   "id": "f2160d42",
   "metadata": {
    "ExecuteTime": {
     "end_time": "2023-03-06T20:10:12.346787Z",
     "start_time": "2023-03-06T20:10:12.333039Z"
    }
   },
   "outputs": [
    {
     "data": {
      "text/plain": [
       "0.05005213764337852"
      ]
     },
     "execution_count": 197,
     "metadata": {},
     "output_type": "execute_result"
    }
   ],
   "source": [
    "f1_score(y_test, y_pred)"
   ]
  },
  {
   "cell_type": "code",
   "execution_count": 199,
   "id": "cd08391b",
   "metadata": {
    "ExecuteTime": {
     "end_time": "2023-03-06T20:10:34.268118Z",
     "start_time": "2023-03-06T20:10:34.249205Z"
    }
   },
   "outputs": [
    {
     "data": {
      "text/plain": [
       "0.46153846153846156"
      ]
     },
     "execution_count": 199,
     "metadata": {},
     "output_type": "execute_result"
    }
   ],
   "source": [
    "precision_score(y_test, y_pred)"
   ]
  },
  {
   "cell_type": "code",
   "execution_count": 200,
   "id": "86044316",
   "metadata": {
    "ExecuteTime": {
     "end_time": "2023-03-06T20:10:44.087836Z",
     "start_time": "2023-03-06T20:10:44.075090Z"
    }
   },
   "outputs": [
    {
     "data": {
      "text/plain": [
       "0.026460859977949284"
      ]
     },
     "execution_count": 200,
     "metadata": {},
     "output_type": "execute_result"
    }
   ],
   "source": [
    "recall_score(y_test, y_pred)"
   ]
  }
 ],
 "metadata": {
  "kernelspec": {
   "display_name": "Python 3 (ipykernel)",
   "language": "python",
   "name": "python3"
  },
  "language_info": {
   "codemirror_mode": {
    "name": "ipython",
    "version": 3
   },
   "file_extension": ".py",
   "mimetype": "text/x-python",
   "name": "python",
   "nbconvert_exporter": "python",
   "pygments_lexer": "ipython3",
   "version": "3.9.13"
  },
  "toc": {
   "base_numbering": 1,
   "nav_menu": {},
   "number_sections": true,
   "sideBar": true,
   "skip_h1_title": false,
   "title_cell": "Table of Contents",
   "title_sidebar": "Contents",
   "toc_cell": false,
   "toc_position": {},
   "toc_section_display": true,
   "toc_window_display": false
  },
  "varInspector": {
   "cols": {
    "lenName": 16,
    "lenType": 16,
    "lenVar": 40
   },
   "kernels_config": {
    "python": {
     "delete_cmd_postfix": "",
     "delete_cmd_prefix": "del ",
     "library": "var_list.py",
     "varRefreshCmd": "print(var_dic_list())"
    },
    "r": {
     "delete_cmd_postfix": ") ",
     "delete_cmd_prefix": "rm(",
     "library": "var_list.r",
     "varRefreshCmd": "cat(var_dic_list()) "
    }
   },
   "types_to_exclude": [
    "module",
    "function",
    "builtin_function_or_method",
    "instance",
    "_Feature"
   ],
   "window_display": false
  }
 },
 "nbformat": 4,
 "nbformat_minor": 5
}
